{
 "cells": [
  {
   "cell_type": "code",
   "execution_count": 34,
   "metadata": {},
   "outputs": [],
   "source": [
    "import re\n",
    "import tqdm\n",
    "import pandas as pd\n",
    "import matplotlib.pyplot as plt"
   ]
  },
  {
   "cell_type": "code",
   "execution_count": 35,
   "metadata": {},
   "outputs": [],
   "source": [
    "sale_df = pd.read_excel('../data/附件2.xlsx')"
   ]
  },
  {
   "cell_type": "code",
   "execution_count": 36,
   "metadata": {},
   "outputs": [
    {
     "name": "stdout",
     "output_type": "stream",
     "text": [
      "<class 'pandas.core.frame.DataFrame'>\n",
      "RangeIndex: 878503 entries, 0 to 878502\n",
      "Data columns (total 7 columns):\n",
      " #   Column      Non-Null Count   Dtype         \n",
      "---  ------      --------------   -----         \n",
      " 0   销售日期        878503 non-null  datetime64[ns]\n",
      " 1   扫码销售时间      878503 non-null  object        \n",
      " 2   单品编码        878503 non-null  int64         \n",
      " 3   销量(千克)      878503 non-null  float64       \n",
      " 4   销售单价(元/千克)  878503 non-null  float64       \n",
      " 5   销售类型        878503 non-null  object        \n",
      " 6   是否打折销售      878503 non-null  object        \n",
      "dtypes: datetime64[ns](1), float64(2), int64(1), object(3)\n",
      "memory usage: 46.9+ MB\n"
     ]
    }
   ],
   "source": [
    "sale_df.info()"
   ]
  },
  {
   "cell_type": "code",
   "execution_count": 37,
   "metadata": {},
   "outputs": [
    {
     "data": {
      "text/html": [
       "<div>\n",
       "<style scoped>\n",
       "    .dataframe tbody tr th:only-of-type {\n",
       "        vertical-align: middle;\n",
       "    }\n",
       "\n",
       "    .dataframe tbody tr th {\n",
       "        vertical-align: top;\n",
       "    }\n",
       "\n",
       "    .dataframe thead th {\n",
       "        text-align: right;\n",
       "    }\n",
       "</style>\n",
       "<table border=\"1\" class=\"dataframe\">\n",
       "  <thead>\n",
       "    <tr style=\"text-align: right;\">\n",
       "      <th></th>\n",
       "      <th>销售日期</th>\n",
       "      <th>扫码销售时间</th>\n",
       "      <th>单品编码</th>\n",
       "      <th>销量(千克)</th>\n",
       "      <th>销售单价(元/千克)</th>\n",
       "      <th>销售类型</th>\n",
       "      <th>是否打折销售</th>\n",
       "    </tr>\n",
       "  </thead>\n",
       "  <tbody>\n",
       "    <tr>\n",
       "      <th>0</th>\n",
       "      <td>2020-07-01</td>\n",
       "      <td>09:15:07.924</td>\n",
       "      <td>102900005117056</td>\n",
       "      <td>0.396</td>\n",
       "      <td>7.6</td>\n",
       "      <td>销售</td>\n",
       "      <td>否</td>\n",
       "    </tr>\n",
       "    <tr>\n",
       "      <th>1</th>\n",
       "      <td>2020-07-01</td>\n",
       "      <td>09:17:27.295</td>\n",
       "      <td>102900005115960</td>\n",
       "      <td>0.849</td>\n",
       "      <td>3.2</td>\n",
       "      <td>销售</td>\n",
       "      <td>否</td>\n",
       "    </tr>\n",
       "    <tr>\n",
       "      <th>2</th>\n",
       "      <td>2020-07-01</td>\n",
       "      <td>09:17:33.905</td>\n",
       "      <td>102900005117056</td>\n",
       "      <td>0.409</td>\n",
       "      <td>7.6</td>\n",
       "      <td>销售</td>\n",
       "      <td>否</td>\n",
       "    </tr>\n",
       "    <tr>\n",
       "      <th>3</th>\n",
       "      <td>2020-07-01</td>\n",
       "      <td>09:19:45.450</td>\n",
       "      <td>102900005115823</td>\n",
       "      <td>0.421</td>\n",
       "      <td>10.0</td>\n",
       "      <td>销售</td>\n",
       "      <td>否</td>\n",
       "    </tr>\n",
       "    <tr>\n",
       "      <th>4</th>\n",
       "      <td>2020-07-01</td>\n",
       "      <td>09:20:23.686</td>\n",
       "      <td>102900005115908</td>\n",
       "      <td>0.539</td>\n",
       "      <td>8.0</td>\n",
       "      <td>销售</td>\n",
       "      <td>否</td>\n",
       "    </tr>\n",
       "  </tbody>\n",
       "</table>\n",
       "</div>"
      ],
      "text/plain": [
       "        销售日期        扫码销售时间             单品编码  销量(千克)  销售单价(元/千克) 销售类型 是否打折销售\n",
       "0 2020-07-01  09:15:07.924  102900005117056   0.396         7.6   销售      否\n",
       "1 2020-07-01  09:17:27.295  102900005115960   0.849         3.2   销售      否\n",
       "2 2020-07-01  09:17:33.905  102900005117056   0.409         7.6   销售      否\n",
       "3 2020-07-01  09:19:45.450  102900005115823   0.421        10.0   销售      否\n",
       "4 2020-07-01  09:20:23.686  102900005115908   0.539         8.0   销售      否"
      ]
     },
     "execution_count": 37,
     "metadata": {},
     "output_type": "execute_result"
    }
   ],
   "source": [
    "sale_df.head()"
   ]
  },
  {
   "cell_type": "code",
   "execution_count": 38,
   "metadata": {},
   "outputs": [
    {
     "name": "stdout",
     "output_type": "stream",
     "text": [
      "[(102900005115168, ('牛首生菜', 1011010101)), (102900005115199, ('四川红香椿', 1011010101)), (102900005115625, ('本地小毛白菜', 1011010101)), (102900005115748, ('白菜苔', 1011010101)), (102900005115762, ('苋菜', 1011010101))]\n",
      "[(1011010101, '花叶类'), (1011010201, '花菜类'), (1011010402, '水生根茎类'), (1011010501, '茄类'), (1011010504, '辣椒类')]\n"
     ]
    }
   ],
   "source": [
    "ty_df = pd.read_excel('../data/附件1.xlsx')\n",
    "item_corpus = {row[1]['单品编码']: (row[1]['单品名称'], row[1]['分类编码']) \n",
    "               for row in ty_df.iterrows()}\n",
    "ty_corpus = {row[1]['分类编码']: row[1]['分类名称'] \n",
    "             for row in ty_df.iterrows()}\n",
    "rev_item_corpus = {v[0]: k for k, v in item_corpus.items()}\n",
    "print(list(item_corpus.items())[:5], list(ty_corpus.items())[:5], sep='\\n')"
   ]
  },
  {
   "cell_type": "code",
   "execution_count": 39,
   "metadata": {},
   "outputs": [
    {
     "data": {
      "text/html": [
       "<div>\n",
       "<style scoped>\n",
       "    .dataframe tbody tr th:only-of-type {\n",
       "        vertical-align: middle;\n",
       "    }\n",
       "\n",
       "    .dataframe tbody tr th {\n",
       "        vertical-align: top;\n",
       "    }\n",
       "\n",
       "    .dataframe thead th {\n",
       "        text-align: right;\n",
       "    }\n",
       "</style>\n",
       "<table border=\"1\" class=\"dataframe\">\n",
       "  <thead>\n",
       "    <tr style=\"text-align: right;\">\n",
       "      <th></th>\n",
       "      <th>单品编码</th>\n",
       "      <th>单品名称</th>\n",
       "      <th>分类编码</th>\n",
       "      <th>分类名称</th>\n",
       "    </tr>\n",
       "  </thead>\n",
       "  <tbody>\n",
       "    <tr>\n",
       "      <th>0</th>\n",
       "      <td>102900005115168</td>\n",
       "      <td>牛首生菜</td>\n",
       "      <td>1011010101</td>\n",
       "      <td>花叶类</td>\n",
       "    </tr>\n",
       "    <tr>\n",
       "      <th>1</th>\n",
       "      <td>102900005115199</td>\n",
       "      <td>四川红香椿</td>\n",
       "      <td>1011010101</td>\n",
       "      <td>花叶类</td>\n",
       "    </tr>\n",
       "    <tr>\n",
       "      <th>2</th>\n",
       "      <td>102900005115625</td>\n",
       "      <td>本地小毛白菜</td>\n",
       "      <td>1011010101</td>\n",
       "      <td>花叶类</td>\n",
       "    </tr>\n",
       "    <tr>\n",
       "      <th>3</th>\n",
       "      <td>102900005115748</td>\n",
       "      <td>白菜苔</td>\n",
       "      <td>1011010101</td>\n",
       "      <td>花叶类</td>\n",
       "    </tr>\n",
       "    <tr>\n",
       "      <th>4</th>\n",
       "      <td>102900005115762</td>\n",
       "      <td>苋菜</td>\n",
       "      <td>1011010101</td>\n",
       "      <td>花叶类</td>\n",
       "    </tr>\n",
       "  </tbody>\n",
       "</table>\n",
       "</div>"
      ],
      "text/plain": [
       "              单品编码    单品名称        分类编码 分类名称\n",
       "0  102900005115168    牛首生菜  1011010101  花叶类\n",
       "1  102900005115199   四川红香椿  1011010101  花叶类\n",
       "2  102900005115625  本地小毛白菜  1011010101  花叶类\n",
       "3  102900005115748     白菜苔  1011010101  花叶类\n",
       "4  102900005115762      苋菜  1011010101  花叶类"
      ]
     },
     "execution_count": 39,
     "metadata": {},
     "output_type": "execute_result"
    }
   ],
   "source": [
    "ty_df.head()"
   ]
  },
  {
   "cell_type": "code",
   "execution_count": 40,
   "metadata": {},
   "outputs": [
    {
     "name": "stdout",
     "output_type": "stream",
     "text": [
      "['海鲜菇(袋)', '金针菇(袋)', '鲜粽叶(袋)', '净藕', '紫茄子', '黄白菜', '虫草花(盒)', '黄心菜', '蟹味菇', '海鲜菇', '小青菜', '红灯笼椒', '白玉菇', '芜湖青椒', '杏鲍菇', '鲜木耳', '七彩椒', '灯笼椒', '紫白菜', '金针菇', '青茄子', '西峡花菇', '姬菇', '西峡香菇', '圆茄子', '野藕', '高瓜', '红椒', '青杭椒']\n",
      "主要名称\n",
      "海鲜菇(袋)        4\n",
      "金针菇(袋)        3\n",
      "鲜粽叶(袋)        3\n",
      "净藕            3\n",
      "紫茄子           2\n",
      "             ..\n",
      "蔡甸藜蒿(份)       1\n",
      "红珊瑚(粗叶)       1\n",
      "红橡叶           1\n",
      "绿牛油           1\n",
      "和丰阳光海鲜菇(包)    1\n",
      "Name: count, Length: 217, dtype: int64\n"
     ]
    }
   ],
   "source": [
    "# 使用正则表达式提取主要的单品名称，只有当括号内是数字时才分割\n",
    "def extract_main_name(name):\n",
    "    if re.match(r'.*\\(\\d+\\)$', name):\n",
    "        return re.split(r'\\s*\\(\\d+\\)$', name)[0]  # 分割字符串并返回第一部分\n",
    "    return name\n",
    "\n",
    "ty_df['主要名称'] = ty_df['单品名称'].apply(extract_main_name)\n",
    "\n",
    "# 根据主要名称进行分组，并计算每个组的出现次数\n",
    "name_counts = ty_df['主要名称'].value_counts()\n",
    "\n",
    "# 筛选出同货异源的产品，即出现次数大于1的\n",
    "same_goods_sources = name_counts[name_counts > 1].index.tolist()\n",
    "\n",
    "print(same_goods_sources, name_counts, sep='\\n')"
   ]
  },
  {
   "cell_type": "code",
   "execution_count": 41,
   "metadata": {},
   "outputs": [],
   "source": [
    "temp_ty_dict = {main_name: [main_name + '(' + str(i+1) + ')' \n",
    "                          for i in range(name_counts[main_name])] \n",
    "              for main_name in same_goods_sources}\n",
    "temp_idx_dict = {main_name: [{rev_item_corpus[main_name + '(' + str(i+1) + ')']:0} \n",
    "                          for i in range(name_counts[main_name])] \n",
    "              for main_name in same_goods_sources}"
   ]
  },
  {
   "cell_type": "code",
   "execution_count": 46,
   "metadata": {},
   "outputs": [
    {
     "data": {
      "text/html": [
       "<div>\n",
       "<style scoped>\n",
       "    .dataframe tbody tr th:only-of-type {\n",
       "        vertical-align: middle;\n",
       "    }\n",
       "\n",
       "    .dataframe tbody tr th {\n",
       "        vertical-align: top;\n",
       "    }\n",
       "\n",
       "    .dataframe thead th {\n",
       "        text-align: right;\n",
       "    }\n",
       "</style>\n",
       "<table border=\"1\" class=\"dataframe\">\n",
       "  <thead>\n",
       "    <tr style=\"text-align: right;\">\n",
       "      <th></th>\n",
       "      <th>销售日期</th>\n",
       "      <th>扫码销售时间</th>\n",
       "      <th>单品编码</th>\n",
       "      <th>销量(千克)</th>\n",
       "      <th>销售单价(元/千克)</th>\n",
       "      <th>销售类型</th>\n",
       "      <th>是否打折销售</th>\n",
       "      <th>主要名称</th>\n",
       "    </tr>\n",
       "  </thead>\n",
       "  <tbody>\n",
       "    <tr>\n",
       "      <th>0</th>\n",
       "      <td>2020-07-01</td>\n",
       "      <td>09:15:07.924</td>\n",
       "      <td>102900005117056</td>\n",
       "      <td>0.396</td>\n",
       "      <td>7.6</td>\n",
       "      <td>销售</td>\n",
       "      <td>否</td>\n",
       "      <td>泡泡椒(精品)</td>\n",
       "    </tr>\n",
       "    <tr>\n",
       "      <th>1</th>\n",
       "      <td>2020-07-01</td>\n",
       "      <td>09:17:27.295</td>\n",
       "      <td>102900005115960</td>\n",
       "      <td>0.849</td>\n",
       "      <td>3.2</td>\n",
       "      <td>销售</td>\n",
       "      <td>否</td>\n",
       "      <td>大白菜</td>\n",
       "    </tr>\n",
       "    <tr>\n",
       "      <th>2</th>\n",
       "      <td>2020-07-01</td>\n",
       "      <td>09:17:33.905</td>\n",
       "      <td>102900005117056</td>\n",
       "      <td>0.409</td>\n",
       "      <td>7.6</td>\n",
       "      <td>销售</td>\n",
       "      <td>否</td>\n",
       "      <td>泡泡椒(精品)</td>\n",
       "    </tr>\n",
       "    <tr>\n",
       "      <th>3</th>\n",
       "      <td>2020-07-01</td>\n",
       "      <td>09:19:45.450</td>\n",
       "      <td>102900005115823</td>\n",
       "      <td>0.421</td>\n",
       "      <td>10.0</td>\n",
       "      <td>销售</td>\n",
       "      <td>否</td>\n",
       "      <td>上海青</td>\n",
       "    </tr>\n",
       "    <tr>\n",
       "      <th>4</th>\n",
       "      <td>2020-07-01</td>\n",
       "      <td>09:20:23.686</td>\n",
       "      <td>102900005115908</td>\n",
       "      <td>0.539</td>\n",
       "      <td>8.0</td>\n",
       "      <td>销售</td>\n",
       "      <td>否</td>\n",
       "      <td>菜心</td>\n",
       "    </tr>\n",
       "  </tbody>\n",
       "</table>\n",
       "</div>"
      ],
      "text/plain": [
       "        销售日期        扫码销售时间             单品编码  销量(千克)  销售单价(元/千克) 销售类型 是否打折销售  \\\n",
       "0 2020-07-01  09:15:07.924  102900005117056   0.396         7.6   销售      否   \n",
       "1 2020-07-01  09:17:27.295  102900005115960   0.849         3.2   销售      否   \n",
       "2 2020-07-01  09:17:33.905  102900005117056   0.409         7.6   销售      否   \n",
       "3 2020-07-01  09:19:45.450  102900005115823   0.421        10.0   销售      否   \n",
       "4 2020-07-01  09:20:23.686  102900005115908   0.539         8.0   销售      否   \n",
       "\n",
       "      主要名称  \n",
       "0  泡泡椒(精品)  \n",
       "1      大白菜  \n",
       "2  泡泡椒(精品)  \n",
       "3      上海青  \n",
       "4       菜心  "
      ]
     },
     "execution_count": 46,
     "metadata": {},
     "output_type": "execute_result"
    }
   ],
   "source": [
    "# 创建映射字典\n",
    "item_to_main_name = dict(zip(ty_df['单品编码'], ty_df['主要名称']))\n",
    "# 使用映射字典更新sales_df\n",
    "sale_df['主要名称'] = sale_df['单品编码'].map(item_to_main_name)\n",
    "sale_df.head()"
   ]
  },
  {
   "cell_type": "code",
   "execution_count": 63,
   "metadata": {},
   "outputs": [
    {
     "name": "stdout",
     "output_type": "stream",
     "text": [
      "102900011011782 not found\n",
      "102900011023648 not found\n",
      "{'海鲜菇(袋)': [{102900011011546: 7596.0}, {106930274620090: 4248.0}, {106971533455008: 10650.0}, {106958851400125: 12894.0}], '金针菇(袋)': [{102900011001813: 12894.0}, {106949711300167: 19050.0}, {106949711300068: 15294.0}], '鲜粽叶(袋)': [{102900011034354: 1200.0}, {106971563780002: 48.0}, {106972776821582: 768.0}], '净藕': [{102900005116899: 162896.64000001104}, {102900011023976: 373.32599999999957}, {102900011035511: 2092.8000000000134}], '紫茄子': [{102900011033982: 1782.9480000000099}, {102900005116257: 81612.00599999631}], '黄白菜': [{102900011035771: 932.9760000000281}, {102900051010455: 47927.93999999648}], '虫草花(盒)': [{102900011011782: 0}, {106973223300667: 2.0}], '黄心菜': [{102900005116790: 5822.598000000073}, {102900011033920: 3765.535999999993}], '蟹味菇': [{102900005119104: 204.0}, {106956146480203: 190.0}], '海鲜菇': [{102900005119944: 1004.3300000000013}, {102900011032633: 103.78999999999998}], '小青菜': [{102900011023464: 6535.986000000108}, {102900011030158: 592.0}], '红灯笼椒': [{102900011001219: 557.2240000000005}, {102900011032367: 429.61999999999927}], '白玉菇': [{102900005117353: 44.0}, {106956146480197: 502.0}], '芜湖青椒': [{102900011016701: 56328.66200000056}, {102900011023648: 0}], '杏鲍菇': [{102900005125815: 4809.95400000003}, {102900011033944: 2609.104000000037}], '鲜木耳': [{102900011009246: 424.3419999999958}, {102900011032626: 57.07000000000001}], '七彩椒': [{102900005117209: 526.3840000000004}, {102900011032343: 740.0659999999997}], '灯笼椒': [{102900005123880: 424.08599999999956}, {102900011032350: 153.19199999999975}], '紫白菜': [{102900011000632: 26.501999999999995}, {102900011033913: 1.23}], '金针菇': [{102900005116547: 9394.940000000113}, {102900011033937: 946.6300000000032}], '青茄子': [{102900005116509: 7033.526000000075}, {102900011033975: 381.04400000000373}], '西峡花菇': [{102900005115250: 5621.431999999961}, {102900011033968: 18.480000000000004}], '姬菇': [{102900005116912: 750.4440000000019}, {102900011032640: 33.906}], '西峡香菇': [{102900005116530: 23840.45399999986}, {102900011032619: 827.6820000000034}], '圆茄子': [{102900011033999: 9.962000000000002}, {102900051000463: 2095.377999999993}], '野藕': [{102900011010891: 897.7199999999996}, {102900011035962: 22.795999999999996}], '高瓜': [{102900005118824: 2359.3040000000165}, {102900011032732: 899.3680000000033}], '红椒': [{102900005116233: 6915.750000000002}, {102900011035078: 1538.4160000000202}], '青杭椒': [{102900005116905: 3.6339999999999995}, {102900005119968: 257.0000000000003}]}\n"
     ]
    }
   ],
   "source": [
    "grp_sale = sale_df.groupby(['主要名称'])\n",
    "for main_name, sub_id_dict_list in temp_idx_dict.items():\n",
    "    main_grp = grp_sale.get_group((main_name,))\n",
    "    _main_grp = sale_df.groupby(['单品编码'])\n",
    "    for sub_id_dict in sub_id_dict_list:\n",
    "        idx, value = list(sub_id_dict.keys())[0], list(sub_id_dict.values())[0]\n",
    "        try:\n",
    "            item = _main_grp.get_group((idx,))\n",
    "            for _, row in item.iterrows():\n",
    "                value += row['销量(千克)']\n",
    "            sub_id_dict[idx] = value\n",
    "        except KeyError:\n",
    "            print(f'{idx} not found')\n",
    "print(temp_idx_dict)"
   ]
  }
 ],
 "metadata": {
  "kernelspec": {
   "display_name": "mathmodel",
   "language": "python",
   "name": "python3"
  },
  "language_info": {
   "codemirror_mode": {
    "name": "ipython",
    "version": 3
   },
   "file_extension": ".py",
   "mimetype": "text/x-python",
   "name": "python",
   "nbconvert_exporter": "python",
   "pygments_lexer": "ipython3",
   "version": "3.11.9"
  }
 },
 "nbformat": 4,
 "nbformat_minor": 2
}
