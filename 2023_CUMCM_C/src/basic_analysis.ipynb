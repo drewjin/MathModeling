{
 "cells": [
  {
   "cell_type": "code",
   "execution_count": 11,
   "metadata": {},
   "outputs": [],
   "source": [
    "import pandas as pd\n",
    "import matplotlib.pyplot as plt"
   ]
  },
  {
   "cell_type": "code",
   "execution_count": 12,
   "metadata": {},
   "outputs": [
    {
     "data": {
      "text/plain": [
       "(              单品编码    单品名称        分类编码 分类名称\n",
       " 0  102900005115168    牛首生菜  1011010101  花叶类\n",
       " 1  102900005115199   四川红香椿  1011010101  花叶类\n",
       " 2  102900005115625  本地小毛白菜  1011010101  花叶类\n",
       " 3  102900005115748     白菜苔  1011010101  花叶类\n",
       " 4  102900005115762      苋菜  1011010101  花叶类,\n",
       "           日期             单品编码  批发价格(元/千克)\n",
       " 0 2020-07-01  102900005115762        3.88\n",
       " 1 2020-07-01  102900005115779        6.72\n",
       " 2 2020-07-01  102900005115786        3.19\n",
       " 3 2020-07-01  102900005115793        9.24\n",
       " 4 2020-07-01  102900005115823        7.03)"
      ]
     },
     "execution_count": 12,
     "metadata": {},
     "output_type": "execute_result"
    }
   ],
   "source": [
    "ty_df = pd.read_excel('../data/附件1.xlsx')\n",
    "# sale_df = pd.read_excel('../data/附件2.xlsx')\n",
    "purchase_df = pd.read_excel('../data/附件3.xlsx')\n",
    "# decay_df = pd.read_excel('../data/附件4.xlsx')\n",
    "ty_df.head(), purchase_df.head(), \n",
    "# sale_df.head(), decay_df.head()"
   ]
  },
  {
   "cell_type": "code",
   "execution_count": 13,
   "metadata": {},
   "outputs": [
    {
     "name": "stdout",
     "output_type": "stream",
     "text": [
      "[(102900005115168, ('牛首生菜', 1011010101)), (102900005115199, ('四川红香椿', 1011010101)), (102900005115625, ('本地小毛白菜', 1011010101)), (102900005115748, ('白菜苔', 1011010101)), (102900005115762, ('苋菜', 1011010101))]\n",
      "[(1011010101, '花叶类'), (1011010201, '花菜类'), (1011010402, '水生根茎类'), (1011010501, '茄类'), (1011010504, '辣椒类')]\n"
     ]
    }
   ],
   "source": [
    "item_corpus = {row[1]['单品编码']: (row[1]['单品名称'], row[1]['分类编码']) \n",
    "               for row in ty_df.iterrows()}\n",
    "ty_corpus = {row[1]['分类编码']: row[1]['分类名称'] \n",
    "             for row in ty_df.iterrows()}\n",
    "print(list(item_corpus.items())[:5], list(ty_corpus.items())[:5], sep='\\n')"
   ]
  },
  {
   "cell_type": "code",
   "execution_count": 14,
   "metadata": {},
   "outputs": [
    {
     "data": {
      "text/html": [
       "<div>\n",
       "<style scoped>\n",
       "    .dataframe tbody tr th:only-of-type {\n",
       "        vertical-align: middle;\n",
       "    }\n",
       "\n",
       "    .dataframe tbody tr th {\n",
       "        vertical-align: top;\n",
       "    }\n",
       "\n",
       "    .dataframe thead th {\n",
       "        text-align: right;\n",
       "    }\n",
       "</style>\n",
       "<table border=\"1\" class=\"dataframe\">\n",
       "  <thead>\n",
       "    <tr style=\"text-align: right;\">\n",
       "      <th></th>\n",
       "      <th>日期</th>\n",
       "      <th>单品编码</th>\n",
       "      <th>批发价格(元/千克)</th>\n",
       "      <th>年</th>\n",
       "      <th>月</th>\n",
       "      <th>日</th>\n",
       "    </tr>\n",
       "  </thead>\n",
       "  <tbody>\n",
       "    <tr>\n",
       "      <th>0</th>\n",
       "      <td>2020-07-01</td>\n",
       "      <td>102900005115762</td>\n",
       "      <td>3.88</td>\n",
       "      <td>2020</td>\n",
       "      <td>7</td>\n",
       "      <td>1</td>\n",
       "    </tr>\n",
       "    <tr>\n",
       "      <th>1</th>\n",
       "      <td>2020-07-01</td>\n",
       "      <td>102900005115779</td>\n",
       "      <td>6.72</td>\n",
       "      <td>2020</td>\n",
       "      <td>7</td>\n",
       "      <td>1</td>\n",
       "    </tr>\n",
       "    <tr>\n",
       "      <th>2</th>\n",
       "      <td>2020-07-01</td>\n",
       "      <td>102900005115786</td>\n",
       "      <td>3.19</td>\n",
       "      <td>2020</td>\n",
       "      <td>7</td>\n",
       "      <td>1</td>\n",
       "    </tr>\n",
       "    <tr>\n",
       "      <th>3</th>\n",
       "      <td>2020-07-01</td>\n",
       "      <td>102900005115793</td>\n",
       "      <td>9.24</td>\n",
       "      <td>2020</td>\n",
       "      <td>7</td>\n",
       "      <td>1</td>\n",
       "    </tr>\n",
       "    <tr>\n",
       "      <th>4</th>\n",
       "      <td>2020-07-01</td>\n",
       "      <td>102900005115823</td>\n",
       "      <td>7.03</td>\n",
       "      <td>2020</td>\n",
       "      <td>7</td>\n",
       "      <td>1</td>\n",
       "    </tr>\n",
       "  </tbody>\n",
       "</table>\n",
       "</div>"
      ],
      "text/plain": [
       "          日期             单品编码  批发价格(元/千克)     年  月  日\n",
       "0 2020-07-01  102900005115762        3.88  2020  7  1\n",
       "1 2020-07-01  102900005115779        6.72  2020  7  1\n",
       "2 2020-07-01  102900005115786        3.19  2020  7  1\n",
       "3 2020-07-01  102900005115793        9.24  2020  7  1\n",
       "4 2020-07-01  102900005115823        7.03  2020  7  1"
      ]
     },
     "execution_count": 14,
     "metadata": {},
     "output_type": "execute_result"
    }
   ],
   "source": [
    "purchase_df['日期'] = pd.to_datetime(purchase_df['日期'])\n",
    "purchase_df['年'] = purchase_df['日期'].dt.year\n",
    "purchase_df['月'] = purchase_df['日期'].dt.month\n",
    "purchase_df['日'] = purchase_df['日期'].dt.day\n",
    "purchase_df.head()"
   ]
  },
  {
   "cell_type": "code",
   "execution_count": 15,
   "metadata": {},
   "outputs": [
    {
     "name": "stdout",
     "output_type": "stream",
     "text": [
      "102900005115168: {'月': [1, 2, 3, 4, 5, 6, 7, 8, 10, 11, 12], '月份数量': 11, '季节列表': [3, 3, 2, 3], '季节': ['秋季', '秋季', '冬季', '春季', '春季', '春季', '夏季', '夏季', '夏季', '冬季', '冬季'], '季节数量': 4}\n",
      "102900005115199: {'月': [2, 3, 4, 5, 11, 12], '月份数量': 6, '季节列表': [3, 0, 1, 2], '季节': ['秋季', '冬季', '冬季', '春季', '春季', '春季'], '季节数量': 3}\n",
      "102900005115250: {'月': [1, 2, 3, 4, 5, 6, 7, 9, 10, 11, 12], '月份数量': 11, '季节列表': [3, 2, 3, 3], '季节': ['秋季', '秋季', '冬季', '冬季', '冬季', '春季', '春季', '夏季', '春季', '夏季', '秋季'], '季节数量': 4}\n",
      "102900005115625: {'月': [9, 10, 11, 12], '月份数量': 4, '季节列表': [0, 0, 3, 1], '季节': ['秋季', '秋季', '秋季', '冬季'], '季节数量': 2}\n",
      "102900005115748: {'月': [1, 2, 3, 5, 11, 12], '月份数量': 6, '季节列表': [2, 0, 1, 3], '季节': ['秋季', '冬季', '冬季', '春季', '冬季', '春季'], '季节数量': 3}\n",
      "102900005115762: {'月': [1, 2, 3, 4, 5, 6, 7, 8, 9, 10, 11], '月份数量': 11, '季节列表': [3, 3, 3, 2], '季节': ['夏季', '夏季', '秋季', '冬季', '冬季', '春季', '春季', '春季', '夏季', '秋季', '秋季'], '季节数量': 4}\n"
     ]
    }
   ],
   "source": [
    "pch_grp = purchase_df.groupby(['单品编码'])\n",
    "res = {}\n",
    "month2season = {\n",
    "    3: 0, 4: 0, 5: 0,\n",
    "    6: 1, 7: 1, 8: 1,\n",
    "    9: 2, 10: 2, 11: 2,\n",
    "    12: 3, 1: 3, 2: 3\n",
    "}\n",
    "season_map = { 0: '春季', 1: '夏季', 2: '秋季', 3: '冬季' }\n",
    "for idx, grp in pch_grp:\n",
    "    uni_months = grp['月'].unique()\n",
    "    season_list = [0] * 4\n",
    "    seasons = []\n",
    "    for month in uni_months:\n",
    "        season_list[month2season[month]] += 1\n",
    "        seasons.append(season_map[month2season[month]])\n",
    "    num_seasons = 0\n",
    "    for season in season_list:\n",
    "        if season > 0:\n",
    "            num_seasons += 1\n",
    "    res[idx[0]] = {\n",
    "        '月': sorted(uni_months),\n",
    "        '月份数量': len(uni_months),\n",
    "        '季节列表': season_list,\n",
    "        '季节': seasons,\n",
    "        '季节数量': num_seasons\n",
    "    }\n",
    "cnt = 0\n",
    "for idx, row in res.items():\n",
    "    print(f'{idx}: {row}')\n",
    "    cnt += 1\n",
    "    if cnt > 5:\n",
    "        break"
   ]
  },
  {
   "cell_type": "code",
   "execution_count": 16,
   "metadata": {},
   "outputs": [
    {
     "data": {
      "text/plain": [
       "(112,\n",
       " [102900005115168,\n",
       "  102900005115250,\n",
       "  102900005115762,\n",
       "  102900005115779,\n",
       "  102900005115786])"
      ]
     },
     "execution_count": 16,
     "metadata": {},
     "output_type": "execute_result"
    }
   ],
   "source": [
    "cnt_all = 0\n",
    "cnt_all_list = []\n",
    "for k, v in res.items():\n",
    "    if v['季节数量'] == 4:\n",
    "        cnt_all += 1\n",
    "        cnt_all_list.append(k)\n",
    "cnt_all, cnt_all_list[:5]"
   ]
  },
  {
   "cell_type": "code",
   "execution_count": 17,
   "metadata": {},
   "outputs": [
    {
     "data": {
      "text/html": [
       "<div>\n",
       "<style scoped>\n",
       "    .dataframe tbody tr th:only-of-type {\n",
       "        vertical-align: middle;\n",
       "    }\n",
       "\n",
       "    .dataframe tbody tr th {\n",
       "        vertical-align: top;\n",
       "    }\n",
       "\n",
       "    .dataframe thead th {\n",
       "        text-align: right;\n",
       "    }\n",
       "</style>\n",
       "<table border=\"1\" class=\"dataframe\">\n",
       "  <thead>\n",
       "    <tr style=\"text-align: right;\">\n",
       "      <th></th>\n",
       "      <th>单品编码</th>\n",
       "      <th>年</th>\n",
       "      <th>天数</th>\n",
       "    </tr>\n",
       "  </thead>\n",
       "  <tbody>\n",
       "    <tr>\n",
       "      <th>0</th>\n",
       "      <td>102900005115168</td>\n",
       "      <td>2020</td>\n",
       "      <td>4</td>\n",
       "    </tr>\n",
       "    <tr>\n",
       "      <th>1</th>\n",
       "      <td>102900005115168</td>\n",
       "      <td>2021</td>\n",
       "      <td>83</td>\n",
       "    </tr>\n",
       "    <tr>\n",
       "      <th>2</th>\n",
       "      <td>102900005115168</td>\n",
       "      <td>2022</td>\n",
       "      <td>21</td>\n",
       "    </tr>\n",
       "    <tr>\n",
       "      <th>3</th>\n",
       "      <td>102900005115168</td>\n",
       "      <td>2023</td>\n",
       "      <td>12</td>\n",
       "    </tr>\n",
       "    <tr>\n",
       "      <th>4</th>\n",
       "      <td>102900005115199</td>\n",
       "      <td>2020</td>\n",
       "      <td>13</td>\n",
       "    </tr>\n",
       "  </tbody>\n",
       "</table>\n",
       "</div>"
      ],
      "text/plain": [
       "              单品编码     年  天数\n",
       "0  102900005115168  2020   4\n",
       "1  102900005115168  2021  83\n",
       "2  102900005115168  2022  21\n",
       "3  102900005115168  2023  12\n",
       "4  102900005115199  2020  13"
      ]
     },
     "execution_count": 17,
     "metadata": {},
     "output_type": "execute_result"
    }
   ],
   "source": [
    "result = purchase_df.groupby(['单品编码', '年']).agg({'日期': 'nunique'}).reset_index()\n",
    "result.rename(columns={'日期': '天数'}, inplace=True)\n",
    "result.head()"
   ]
  },
  {
   "cell_type": "code",
   "execution_count": null,
   "metadata": {},
   "outputs": [],
   "source": []
  }
 ],
 "metadata": {
  "kernelspec": {
   "display_name": "mathmodel",
   "language": "python",
   "name": "python3"
  },
  "language_info": {
   "codemirror_mode": {
    "name": "ipython",
    "version": 3
   },
   "file_extension": ".py",
   "mimetype": "text/x-python",
   "name": "python",
   "nbconvert_exporter": "python",
   "pygments_lexer": "ipython3",
   "version": "3.11.9"
  }
 },
 "nbformat": 4,
 "nbformat_minor": 2
}
